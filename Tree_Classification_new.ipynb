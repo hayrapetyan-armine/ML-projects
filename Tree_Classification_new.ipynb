{
 "cells": [
  {
   "cell_type": "code",
   "execution_count": 1,
   "metadata": {},
   "outputs": [],
   "source": [
    "import numpy as np\n",
    "import pandas as pd\n",
    "from sklearn import tree\n",
    "import matplotlib.pyplot as plt\n",
    "from sklearn.metrics import accuracy_score\n",
    "from sklearn.metrics import precision_score\n",
    "from sklearn.metrics import recall_score\n",
    "from sklearn.metrics import confusion_matrix\n",
    "from sklearn.metrics import auc\n",
    "from sklearn.metrics import roc_curve\n",
    "from sklearn.metrics import precision_recall_curve\n",
    "from sklearn.model_selection import train_test_split\n",
    "from sklearn.model_selection import cross_val_score\n",
    "from sklearn.metrics import classification_report\n",
    "from sklearn.datasets import make_regression\n",
    "from sklearn.datasets import make_classification\n",
    "from sklearn.datasets import make_gaussian_quantiles\n",
    "from sklearn import ensemble"
   ]
  },
  {
   "cell_type": "code",
   "execution_count": 2,
   "metadata": {},
   "outputs": [
    {
     "name": "stdout",
     "output_type": "stream",
     "text": [
      "(10000, 12)\n",
      "(10000,)\n"
     ]
    }
   ],
   "source": [
    "X,Y = make_classification(n_samples = 10000, n_features = 12, \n",
    "                     n_informative = 10, n_classes = 5, random_state = 0 )\n",
    "print(X.shape)\n",
    "print(Y.shape)"
   ]
  },
  {
   "cell_type": "code",
   "execution_count": 3,
   "metadata": {},
   "outputs": [],
   "source": [
    "X_train, X_test, Y_train, Y_test = train_test_split(X,Y,test_size = 0.3)"
   ]
  },
  {
   "cell_type": "code",
   "execution_count": 4,
   "metadata": {},
   "outputs": [
    {
     "name": "stdout",
     "output_type": "stream",
     "text": [
      "j-> 2 Mean-> 0.39931700949436577\n",
      "j-> 3 Mean-> 0.45116054561905405\n",
      "j-> 4 Mean-> 0.48715790508429624\n",
      "j-> 5 Mean-> 0.5451465784813557\n",
      "j-> 6 Mean-> 0.5701440571105187\n",
      "j-> 7 Mean-> 0.6065685566305453\n",
      "j-> 8 Mean-> 0.6227029111401191\n",
      "j-> 9 Mean-> 0.6341360781194785\n",
      "j-> 10 Mean-> 0.6440020435640008\n",
      "j-> 11 Mean-> 0.6530062139406458\n",
      "j-> 12 Mean-> 0.6457257825220596\n",
      "j-> 13 Mean-> 0.6460192537299654\n",
      "j-> 14 Mean-> 0.6424410772537503\n",
      "j-> 15 Mean-> 0.6440082057635883\n",
      "j-> 16 Mean-> 0.6460182283558801\n",
      "j-> 17 Mean-> 0.6361604145864275\n",
      "j-> 18 Mean-> 0.6394334978501615\n",
      "j-> 19 Mean-> 0.6418702402084547\n",
      "j-> 20 Mean-> 0.6397208401324772\n",
      "j-> 21 Mean-> 0.6397214474648506\n"
     ]
    },
    {
     "data": {
      "text/plain": [
       "11"
      ]
     },
     "execution_count": 4,
     "metadata": {},
     "output_type": "execute_result"
    }
   ],
   "source": [
    "score = np.array([])\n",
    "for j in np.arange(20) + 2:\n",
    "    mod_reg = tree.DecisionTreeClassifier(max_depth = j)\n",
    "    mod_cv = cross_val_score(mod_reg, X_train,Y_train, cv = 10)\n",
    "    score = np.append(score, np.mean(mod_cv))\n",
    "    print(\"j->\", j, \"Mean->\", np.mean(mod_cv))\n",
    "param = np.argmax(score) + 2\n",
    "param"
   ]
  },
  {
   "cell_type": "code",
   "execution_count": 5,
   "metadata": {},
   "outputs": [
    {
     "name": "stdout",
     "output_type": "stream",
     "text": [
      "11\n",
      "Error - >  0.67\n"
     ]
    }
   ],
   "source": [
    "mod_reg = tree.DecisionTreeClassifier(max_depth = param)\n",
    "mod_reg_fit = mod_reg.fit(X_train,Y_train)\n",
    "error = mod_reg_fit.score(X_test,Y_test)\n",
    "print(param)\n",
    "print(\"Error - > \", error)\n",
    "\n",
    "#mod = tree.DecisionTreeRegressor(max_depth = 3)\n",
    "#mod.fit(X_train, Y_train)\n",
    "#plt.figure(figsize = (12,12))\n",
    "#tree.plot_tree(mod)\n",
    "#plt.show()  "
   ]
  },
  {
   "cell_type": "code",
   "execution_count": 6,
   "metadata": {},
   "outputs": [
    {
     "name": "stdout",
     "output_type": "stream",
     "text": [
      "              precision    recall  f1-score   support\n",
      "\n",
      "           0       0.87      0.88      0.88      1402\n",
      "           1       0.85      0.89      0.87      1387\n",
      "           2       0.92      0.91      0.91      1407\n",
      "           3       0.92      0.87      0.90      1409\n",
      "           4       0.86      0.87      0.86      1395\n",
      "\n",
      "    accuracy                           0.88      7000\n",
      "   macro avg       0.88      0.88      0.88      7000\n",
      "weighted avg       0.89      0.88      0.88      7000\n",
      "\n"
     ]
    }
   ],
   "source": [
    "Y_predict = mod_reg_fit.predict(X_train)\n",
    "print(classification_report(Y_train, Y_predict))"
   ]
  },
  {
   "cell_type": "code",
   "execution_count": 7,
   "metadata": {},
   "outputs": [
    {
     "name": "stdout",
     "output_type": "stream",
     "text": [
      "              precision    recall  f1-score   support\n",
      "\n",
      "           0       0.68      0.67      0.68       596\n",
      "           1       0.64      0.66      0.65       613\n",
      "           2       0.70      0.69      0.70       598\n",
      "           3       0.68      0.66      0.67       592\n",
      "           4       0.65      0.66      0.66       601\n",
      "\n",
      "    accuracy                           0.67      3000\n",
      "   macro avg       0.67      0.67      0.67      3000\n",
      "weighted avg       0.67      0.67      0.67      3000\n",
      "\n"
     ]
    }
   ],
   "source": [
    "Y_predict = mod_reg_fit.predict(X_test)\n",
    "print(classification_report(Y_test, Y_predict))"
   ]
  },
  {
   "cell_type": "code",
   "execution_count": 8,
   "metadata": {},
   "outputs": [
    {
     "name": "stdout",
     "output_type": "stream",
     "text": [
      "j-> 2 Mean-> 0.6828583735088314\n",
      "j-> 3 Mean-> 0.7451456673121358\n",
      "j-> 4 Mean-> 0.7798581240898675\n",
      "j-> 5 Mean-> 0.8082801146191736\n",
      "j-> 6 Mean-> 0.820714674802838\n",
      "j-> 7 Mean-> 0.8208608072687351\n",
      "j-> 8 Mean-> 0.8257153130667753\n",
      "j-> 9 Mean-> 0.8245716337547812\n"
     ]
    },
    {
     "data": {
      "text/plain": [
       "8"
      ]
     },
     "execution_count": 8,
     "metadata": {},
     "output_type": "execute_result"
    }
   ],
   "source": [
    "score = np.array([])\n",
    "for j in np.arange(8) + 2:\n",
    "    mod_reg = ensemble.GradientBoostingClassifier(max_depth = j)\n",
    "    mod_cv = cross_val_score(mod_reg, X_train,Y_train, \n",
    "                             cv = 10)\n",
    "    score = np.append(score, np.mean(mod_cv))\n",
    "    print(\"j->\", j, \"Mean->\", np.mean(mod_cv))\n",
    "param = np.argmax(score) + 2\n",
    "param"
   ]
  },
  {
   "cell_type": "code",
   "execution_count": 9,
   "metadata": {},
   "outputs": [
    {
     "name": "stdout",
     "output_type": "stream",
     "text": [
      "8\n",
      "Error - >  0.8343333333333334\n"
     ]
    }
   ],
   "source": [
    "mod_reg_boost = ensemble.GradientBoostingClassifier(max_depth = param)\n",
    "mod_reg_boost_fit = mod_reg_boost.fit(X_train,Y_train)\n",
    "error = mod_reg_boost_fit.score(X_test,Y_test)\n",
    "print(param)\n",
    "print(\"Error - > \", error)"
   ]
  },
  {
   "cell_type": "code",
   "execution_count": 10,
   "metadata": {},
   "outputs": [
    {
     "name": "stdout",
     "output_type": "stream",
     "text": [
      "              precision    recall  f1-score   support\n",
      "\n",
      "           0       1.00      1.00      1.00      1402\n",
      "           1       1.00      1.00      1.00      1387\n",
      "           2       1.00      1.00      1.00      1407\n",
      "           3       1.00      1.00      1.00      1409\n",
      "           4       1.00      1.00      1.00      1395\n",
      "\n",
      "    accuracy                           1.00      7000\n",
      "   macro avg       1.00      1.00      1.00      7000\n",
      "weighted avg       1.00      1.00      1.00      7000\n",
      "\n"
     ]
    }
   ],
   "source": [
    "Y_predict = mod_reg_boost_fit.predict(X_train)\n",
    "print(classification_report(Y_train, Y_predict))"
   ]
  },
  {
   "cell_type": "code",
   "execution_count": 11,
   "metadata": {},
   "outputs": [
    {
     "name": "stdout",
     "output_type": "stream",
     "text": [
      "              precision    recall  f1-score   support\n",
      "\n",
      "           0       0.84      0.82      0.83       596\n",
      "           1       0.81      0.83      0.82       613\n",
      "           2       0.87      0.84      0.86       598\n",
      "           3       0.86      0.84      0.85       592\n",
      "           4       0.80      0.84      0.82       601\n",
      "\n",
      "    accuracy                           0.83      3000\n",
      "   macro avg       0.84      0.83      0.83      3000\n",
      "weighted avg       0.84      0.83      0.83      3000\n",
      "\n"
     ]
    }
   ],
   "source": [
    "Y_predict = mod_reg_boost_fit.predict(X_test)\n",
    "print(classification_report(Y_test, Y_predict))"
   ]
  },
  {
   "cell_type": "code",
   "execution_count": 12,
   "metadata": {},
   "outputs": [
    {
     "name": "stdout",
     "output_type": "stream",
     "text": [
      "j-> 2 Mean-> 0.4740290715469115\n",
      "j-> 3 Mean-> 0.5338843282619978\n",
      "j-> 4 Mean-> 0.5988818073792428\n",
      "j-> 5 Mean-> 0.6547292592779459\n",
      "j-> 6 Mean-> 0.6932951959040592\n",
      "j-> 7 Mean-> 0.7322937874216658\n",
      "j-> 8 Mean-> 0.7537259307284544\n",
      "j-> 9 Mean-> 0.775004003094442\n",
      "j-> 10 Mean-> 0.7865783571819859\n",
      "j-> 11 Mean-> 0.8001555759783014\n",
      "j-> 12 Mean-> 0.8071578696268435\n",
      "j-> 13 Mean-> 0.8138676958695406\n",
      "j-> 14 Mean-> 0.8137264801370401\n",
      "j-> 15 Mean-> 0.8151564816327846\n",
      "j-> 16 Mean-> 0.8197203786595584\n",
      "j-> 17 Mean-> 0.814298924748005\n",
      "j-> 18 Mean-> 0.8171564763422559\n",
      "j-> 19 Mean-> 0.8172930136422447\n",
      "j-> 20 Mean-> 0.822441829204311\n",
      "j-> 21 Mean-> 0.8197279352647199\n"
     ]
    },
    {
     "data": {
      "text/plain": [
       "20"
      ]
     },
     "execution_count": 12,
     "metadata": {},
     "output_type": "execute_result"
    }
   ],
   "source": [
    "score = np.array([])\n",
    "for j in np.arange(20) + 2:\n",
    "    mod_reg = ensemble.RandomForestClassifier(max_depth = j,\n",
    "                                             max_features = 4,\n",
    "                                             n_estimators = 200)\n",
    "    mod_cv = cross_val_score(mod_reg, X_train,Y_train, \n",
    "                             cv = 10)\n",
    "    score = np.append(score, np.mean(mod_cv))\n",
    "    print(\"j->\", j, \"Mean->\", np.mean(mod_cv))\n",
    "param = np.argmax(score) + 2\n",
    "param"
   ]
  },
  {
   "cell_type": "code",
   "execution_count": 13,
   "metadata": {},
   "outputs": [
    {
     "name": "stdout",
     "output_type": "stream",
     "text": [
      "20\n",
      "Error - >  0.8286666666666667\n"
     ]
    }
   ],
   "source": [
    "mod_reg_rf = ensemble.RandomForestClassifier(max_depth = param,\n",
    "                                             max_features = 4,\n",
    "                                             n_estimators = 100)\n",
    "mod_reg_rf_fit = mod_reg_rf.fit(X_train,Y_train)\n",
    "error = mod_reg_rf_fit.score(X_test,Y_test)\n",
    "print(param)\n",
    "print(\"Error - > \", error)"
   ]
  },
  {
   "cell_type": "code",
   "execution_count": 14,
   "metadata": {},
   "outputs": [
    {
     "name": "stdout",
     "output_type": "stream",
     "text": [
      "              precision    recall  f1-score   support\n",
      "\n",
      "           0       1.00      1.00      1.00      1402\n",
      "           1       1.00      1.00      1.00      1387\n",
      "           2       1.00      1.00      1.00      1407\n",
      "           3       1.00      1.00      1.00      1409\n",
      "           4       1.00      1.00      1.00      1395\n",
      "\n",
      "    accuracy                           1.00      7000\n",
      "   macro avg       1.00      1.00      1.00      7000\n",
      "weighted avg       1.00      1.00      1.00      7000\n",
      "\n"
     ]
    }
   ],
   "source": [
    "Y_predict = mod_reg_rf_fit.predict(X_train)\n",
    "print(classification_report(Y_train, Y_predict))"
   ]
  },
  {
   "cell_type": "code",
   "execution_count": 15,
   "metadata": {},
   "outputs": [
    {
     "name": "stdout",
     "output_type": "stream",
     "text": [
      "              precision    recall  f1-score   support\n",
      "\n",
      "           0       0.83      0.81      0.82       596\n",
      "           1       0.82      0.83      0.82       613\n",
      "           2       0.85      0.84      0.85       598\n",
      "           3       0.86      0.81      0.83       592\n",
      "           4       0.79      0.85      0.81       601\n",
      "\n",
      "    accuracy                           0.83      3000\n",
      "   macro avg       0.83      0.83      0.83      3000\n",
      "weighted avg       0.83      0.83      0.83      3000\n",
      "\n"
     ]
    }
   ],
   "source": [
    "Y_predict = mod_reg_rf_fit.predict(X_test)\n",
    "print(classification_report(Y_test, Y_predict))"
   ]
  },
  {
   "cell_type": "code",
   "execution_count": 16,
   "metadata": {},
   "outputs": [
    {
     "name": "stdout",
     "output_type": "stream",
     "text": [
      "j-> 2 Mean-> 0.64057920233902\n",
      "j-> 3 Mean-> 0.677572423930647\n",
      "j-> 4 Mean-> 0.6887253714850747\n",
      "j-> 5 Mean-> 0.7172912443458394\n",
      "j-> 6 Mean-> 0.7612737077897223\n",
      "j-> 7 Mean-> 0.7894312180161278\n",
      "j-> 8 Mean-> 0.810275627098985\n",
      "j-> 9 Mean-> 0.8211457121534081\n",
      "j-> 10 Mean-> 0.8302912594794828\n",
      "j-> 11 Mean-> 0.8328651592332077\n",
      "j-> 12 Mean-> 0.8351463918746738\n",
      "j-> 13 Mean-> 0.8341463953632988\n",
      "j-> 14 Mean-> 0.8368694761868388\n",
      "j-> 15 Mean-> 0.8415733779001819\n",
      "j-> 16 Mean-> 0.8387280754131436\n",
      "j-> 17 Mean-> 0.8382817180434939\n",
      "j-> 18 Mean-> 0.8395766432580215\n",
      "j-> 19 Mean-> 0.837430713496613\n",
      "j-> 20 Mean-> 0.7657628340349174\n",
      "j-> 21 Mean-> 0.7151988680533717\n"
     ]
    },
    {
     "data": {
      "text/plain": [
       "15"
      ]
     },
     "execution_count": 16,
     "metadata": {},
     "output_type": "execute_result"
    }
   ],
   "source": [
    "score = np.array([])\n",
    "for j in np.arange(20) + 2:\n",
    "    mod_reg = ensemble.AdaBoostClassifier(tree.DecisionTreeClassifier(max_depth = j), \n",
    "                                         n_estimators = 100)\n",
    "    mod_cv = cross_val_score(mod_reg, X_train,Y_train, \n",
    "                             cv = 10)\n",
    "    score = np.append(score, np.mean(mod_cv))\n",
    "    print(\"j->\", j, \"Mean->\", np.mean(mod_cv))\n",
    "param = np.argmax(score) + 2\n",
    "param"
   ]
  },
  {
   "cell_type": "code",
   "execution_count": 17,
   "metadata": {},
   "outputs": [
    {
     "name": "stdout",
     "output_type": "stream",
     "text": [
      "15\n",
      "Error - >  0.8466666666666667\n"
     ]
    }
   ],
   "source": [
    "mod_reg_ada = ensemble.AdaBoostClassifier(tree.DecisionTreeClassifier(max_depth = param), \n",
    "                                         n_estimators = 100)\n",
    "mod_reg_ada_fit = mod_reg_ada.fit(X_train,Y_train)\n",
    "error = mod_reg_ada_fit.score(X_test,Y_test)\n",
    "print(param)\n",
    "print(\"Error - > \", error)"
   ]
  },
  {
   "cell_type": "code",
   "execution_count": null,
   "metadata": {},
   "outputs": [],
   "source": []
  }
 ],
 "metadata": {
  "kernelspec": {
   "display_name": "Python 3",
   "language": "python",
   "name": "python3"
  },
  "language_info": {
   "codemirror_mode": {
    "name": "ipython",
    "version": 3
   },
   "file_extension": ".py",
   "mimetype": "text/x-python",
   "name": "python",
   "nbconvert_exporter": "python",
   "pygments_lexer": "ipython3",
   "version": "3.5.2"
  }
 },
 "nbformat": 4,
 "nbformat_minor": 2
}
